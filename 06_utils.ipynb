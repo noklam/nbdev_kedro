{
 "cells": [
  {
   "cell_type": "code",
   "execution_count": null,
   "metadata": {},
   "outputs": [],
   "source": [
    "#| default_exp utils"
   ]
  },
  {
   "cell_type": "code",
   "execution_count": null,
   "metadata": {},
   "outputs": [],
   "source": [
    "#|export\n",
    "\"\"\"This module provides a set of helper functions being used across different components\n",
    "of kedro package.\n",
    "\"\"\"\n",
    "import importlib\n",
    "from typing import Any\n",
    "\n",
    "\n",
    "def load_obj(obj_path: str, default_obj_path: str = \"\") -> Any:\n",
    "    \"\"\"Extract an object from a given path.\n",
    "\n",
    "    Args:\n",
    "        obj_path: Path to an object to be extracted, including the object name.\n",
    "        default_obj_path: Default object path.\n",
    "\n",
    "    Returns:\n",
    "        Extracted object.\n",
    "\n",
    "    Raises:\n",
    "        AttributeError: When the object does not have the given named attribute.\n",
    "\n",
    "    \"\"\"\n",
    "    obj_path_list = obj_path.rsplit(\".\", 1)\n",
    "    obj_path = obj_path_list.pop(0) if len(obj_path_list) > 1 else default_obj_path\n",
    "    obj_name = obj_path_list[0]\n",
    "    module_obj = importlib.import_module(obj_path)\n",
    "    if not hasattr(module_obj, obj_name):\n",
    "        raise AttributeError(f\"Object '{obj_name}' cannot be loaded from '{obj_path}'.\")\n",
    "    return getattr(module_obj, obj_name)\n"
   ]
  }
 ],
 "metadata": {
  "kernelspec": {
   "display_name": "Python 3 (ipykernel)",
   "language": "python",
   "name": "python3"
  }
 },
 "nbformat": 4,
 "nbformat_minor": 4
}
