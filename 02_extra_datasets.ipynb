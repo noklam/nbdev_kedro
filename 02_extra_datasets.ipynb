{
 "cells": [
  {
   "cell_type": "code",
   "execution_count": null,
   "id": "1847d1b9",
   "metadata": {},
   "outputs": [],
   "source": [
    "#| default_exp extras.datasets"
   ]
  },
  {
   "cell_type": "code",
   "execution_count": null,
   "id": "2486c12a",
   "metadata": {},
   "outputs": [],
   "source": [
    "#|export"
   ]
  },
  {
   "cell_type": "code",
   "execution_count": null,
   "id": "0b6322a3",
   "metadata": {},
   "outputs": [],
   "source": []
  }
 ],
 "metadata": {
  "kernelspec": {
   "display_name": "Kedro",
   "language": "python",
   "name": "kedro"
  }
 },
 "nbformat": 4,
 "nbformat_minor": 5
}
