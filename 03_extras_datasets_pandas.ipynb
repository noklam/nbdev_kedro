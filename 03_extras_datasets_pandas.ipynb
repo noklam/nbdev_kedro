{
 "cells": [
  {
   "cell_type": "code",
   "execution_count": null,
   "id": "c6cc0299",
   "metadata": {},
   "outputs": [],
   "source": [
    "#| default_exp extras.pandas"
   ]
  },
  {
   "cell_type": "code",
   "execution_count": null,
   "id": "7885807c",
   "metadata": {},
   "outputs": [],
   "source": [
    "#|export"
   ]
  },
  {
   "cell_type": "code",
   "execution_count": null,
   "id": "1604b0b3",
   "metadata": {},
   "outputs": [],
   "source": []
  }
 ],
 "metadata": {
  "kernelspec": {
   "display_name": "Kedro",
   "language": "python",
   "name": "kedro"
  }
 },
 "nbformat": 4,
 "nbformat_minor": 5
}
